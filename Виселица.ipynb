{
 "cells": [
  {
   "cell_type": "code",
   "execution_count": 233,
   "metadata": {},
   "outputs": [],
   "source": [
    "def getGamerInput(is_level, is_one_two):                          #функция для ввода\n",
    "    gamer_input = input()\n",
    "    if gamer_input == 'save' and (not is_level):\n",
    "        return gamer_input\n",
    "    if len(gamer_input) == 1:\n",
    "        if gamer_input.isdigit() and 1 <= int(gamer_input) <= 3:\n",
    "            if is_level:\n",
    "                return int(gamer_input)\n",
    "            elif is_one_two and int(gamer_input) <= 2:\n",
    "                return int(gamer_input)\n",
    "        elif (not is_level) and (not is_one_two) and gamer_input.isalpha():\n",
    "            return gamer_input.lower()\n",
    "    print('Error, try again')\n",
    "    return getGamerInput(is_level, is_one_two)"
   ]
  },
  {
   "cell_type": "code",
   "execution_count": 234,
   "metadata": {},
   "outputs": [],
   "source": [
    "def save(*elements):                                 #функция для сохранения\n",
    "    with open('Save.txt', 'w') as save_file:\n",
    "        save_file.writelines(elements) "
   ]
  },
  {
   "cell_type": "code",
   "execution_count": 237,
   "metadata": {},
   "outputs": [],
   "source": [
    "def serialization(element):\n",
    "    with open(\"file.pkl\", \"wb\") as fp:\n",
    "        pickle.dump(element, fp)"
   ]
  },
  {
   "cell_type": "code",
   "execution_count": 238,
   "metadata": {},
   "outputs": [],
   "source": [
    "def unserialization(element):\n",
    "    with open(element, \"rb\") as fp:\n",
    "        return pickle.load(fp)"
   ]
  },
  {
   "cell_type": "code",
   "execution_count": 240,
   "metadata": {},
   "outputs": [],
   "source": [
    "class Letter():                                      #каждая буква как класс\n",
    "    def __init__(self, letter, open_flag):\n",
    "        self.letter = letter\n",
    "        self.open_flag = open_flag\n",
    "    \n",
    "    def __getstate__(self) -> dict:  # Как мы будем \"сохранять\" класс\n",
    "        state = {}\n",
    "        state[\"letter\"] = self.letter\n",
    "        state[\"open_flag\"] = self.open_flag\n",
    "        return state\n",
    "\n",
    "    def __setstate__(self, state: dict):  # Как мы будем восстанавливать класс из байтов\n",
    "        self.letter = state[\"letter\"]\n",
    "        self.open_flag = state[\"open_flag\"] \n",
    "\n",
    "    def show(self):\n",
    "        if self.open_flag:\n",
    "            return self.letter\n",
    "        else:\n",
    "            return '*'"
   ]
  },
  {
   "cell_type": "code",
   "execution_count": 241,
   "metadata": {},
   "outputs": [],
   "source": [
    "class Slovo():                                                          # загаданное слово как класс\n",
    "    def __init__(self, word, attemts_number, is_letter_in_word=False):\n",
    "        self.word = word\n",
    "        self.attemts_number = attemts_number\n",
    "        self.is_letter_in_word = is_letter_in_word\n",
    "\n",
    "        letter_list = [Letter(i, False) for i in word]\n",
    "        self.letter_list = letter_list\n",
    "\n",
    "        inputs_list = []\n",
    "        self.inputs_list = inputs_list\n",
    "\n",
    "    def __getstate__(self) -> dict:  # Как мы будем \"сохранять\" класс\n",
    "        state = {}\n",
    "        state[\"word\"] = self.word\n",
    "        state[\"attemts_number\"] = self.attemts_number\n",
    "        self.letter_list_dumps = pickle.dumps(self.letter_list)\n",
    "        state[\"letter_list_dumps\"] = self.letter_list_dumps\n",
    "        state[\"inputs_list\"] = self.inputs_list\n",
    "        return state\n",
    "\n",
    "    def __setstate__(self, state: dict):  # Как мы будем восстанавливать класс из байтов\n",
    "        self.word = state[\"word\"]\n",
    "        self.attemts_number = state[\"attemts_number\"]\n",
    "        self.letter_list_dumps = state[\"letter_list_dumps\"]\n",
    "        self.letter_list = pickle.loads(self.letter_list_dumps)\n",
    "        self.inputs_list = state[\"inputs_list\"]\n",
    "\n",
    "    def check(self, input_letter):\n",
    "        if input_letter not in self.inputs_list:\n",
    "            self.inputs_list.append(input_letter)\n",
    "        else:\n",
    "            print(f'You have already entered the letter \"{input_letter}\"')\n",
    "            self.is_letter_in_word = True\n",
    "        \n",
    "    def decrease_attemts(self, input_letter):\n",
    "        if not self.is_letter_in_word:\n",
    "            print(f'The letter \"{input_letter}\" is not in the word')\n",
    "            self.attemts_number -=1\n",
    "\n",
    "    def show(self, show_word_flag, input_letter=None):\n",
    "        if show_word_flag:\n",
    "            new_word = self.word\n",
    "            return new_word\n",
    "        else:\n",
    "            new_word = ''\n",
    "            self.is_letter_in_word = False\n",
    "            for i in self.letter_list:\n",
    "                if i.letter == input_letter:\n",
    "                    self.is_letter_in_word = True\n",
    "                    i.open_flag = True\n",
    "                new_word += i.show()\n",
    "            return new_word\n",
    "\n",
    "    def game_mechanics(self, show_word_flag, input_letter):\n",
    "        new_word = self.show(show_word_flag, input_letter)\n",
    "        self.check(input_letter)\n",
    "        self.decrease_attemts(input_letter)\n",
    "                \n",
    "        return (new_word, self.attemts_number)\n",
    "            \n"
   ]
  },
  {
   "cell_type": "code",
   "execution_count": 242,
   "metadata": {},
   "outputs": [],
   "source": [
    "def edit_level_sentence(dict, level):                                                        #функция для длинных предложений\n",
    "    return f'\\n{dict[str(level)][0]} - The word consists of {dict[str(level)][1]} letters, \\\n",
    "the number of attempts is {dict[str(level)][2]}'"
   ]
  },
  {
   "cell_type": "code",
   "execution_count": 243,
   "metadata": {},
   "outputs": [],
   "source": [
    "def game(levels_dict):                                         #функция игры\n",
    "    print('New game - 1\\nContinue game - 2')\n",
    "    gamer_input = getGamerInput(False, True)\n",
    "    if gamer_input == 2:\n",
    "        slovo = unserialization(\"file.pkl\")\n",
    "        print(slovo.show(False))\n",
    "                \n",
    "    elif gamer_input == 1:\n",
    "        print(f'\\nSelect difficulty level:\\\n",
    "            {edit_level_sentence(levels_dict, 1)} (Press 1)\\\n",
    "            {edit_level_sentence(levels_dict, 2)} (Press 2)\\\n",
    "            {edit_level_sentence(levels_dict, 3)} (Press 3)')       #вывод уровней\n",
    "\n",
    "        gamer_input = getGamerInput(True, False)                     # ввод уровня\n",
    "        \n",
    "    level = gamer_input\n",
    "    print(edit_level_sentence(levels_dict, level))\n",
    "\n",
    "    word = levels_dict[str(gamer_input)][3]\n",
    "    attemts_number = levels_dict[str(gamer_input)][2]\n",
    "    slovo = Slovo(word, attemts_number)\n",
    "    input_number = 0\n",
    "\n",
    "    print(slovo.show(False))\n",
    "    while attemts_number != 0:\n",
    "        gamer_input = getGamerInput(False, False)\n",
    "        if gamer_input == 'save':\n",
    "            print('\\nSee you')\n",
    "            return serialization(slovo)\n",
    "        input_number += 1\n",
    "\n",
    "        new_word, attemts_number = slovo.game_mechanics(False, gamer_input)\n",
    "        print(f'{new_word} \\nAttempts left: {attemts_number}')\n",
    "\n",
    "        if new_word == slovo.show(True):\n",
    "            print(f'\\nCongratulations\\nYou win\\nYou completed the game in {input_number} turns')\n",
    "            break\n",
    "        \n",
    "    if attemts_number == 0:         #если игрок проиграл\n",
    "        print('\\nGame over')\n",
    "\n",
    "    print('\\nDo you want to start a new game?\\nYes - 1\\nNo - 2')\n",
    "\n",
    "    gamer_input = getGamerInput(False, True)\n",
    "    if gamer_input == 1:\n",
    "        game(levels_dict)\n",
    "    else:\n",
    "        print('Goodbye')\n",
    "        "
   ]
  },
  {
   "cell_type": "code",
   "execution_count": 244,
   "metadata": {},
   "outputs": [
    {
     "name": "stdout",
     "output_type": "stream",
     "text": [
      "New game - 1\n",
      "Continue game - 2\n",
      "bi***i***\n",
      "\n",
      "Normal - The word consists of 7 letters, the number of attempts is 7\n",
      "*******\n",
      "******r \n",
      "Attempts left: 7\n"
     ]
    },
    {
     "ename": "KeyboardInterrupt",
     "evalue": "Interrupted by user",
     "output_type": "error",
     "traceback": [
      "\u001b[1;31m---------------------------------------------------------------------------\u001b[0m",
      "\u001b[1;31mKeyboardInterrupt\u001b[0m                         Traceback (most recent call last)",
      "\u001b[1;32m<ipython-input-244-03146a427831>\u001b[0m in \u001b[0;36m<module>\u001b[1;34m\u001b[0m\n\u001b[0;32m      1\u001b[0m \u001b[0mlevels_dict\u001b[0m \u001b[1;33m=\u001b[0m \u001b[1;33m{\u001b[0m\u001b[1;34m'1'\u001b[0m\u001b[1;33m:\u001b[0m \u001b[1;33m[\u001b[0m\u001b[1;34m'Easy'\u001b[0m\u001b[1;33m,\u001b[0m \u001b[1;36m5\u001b[0m\u001b[1;33m,\u001b[0m \u001b[1;36m9\u001b[0m\u001b[1;33m,\u001b[0m \u001b[1;34m'apple'\u001b[0m\u001b[1;33m]\u001b[0m\u001b[1;33m,\u001b[0m \u001b[1;34m'2'\u001b[0m\u001b[1;33m:\u001b[0m \u001b[1;33m[\u001b[0m\u001b[1;34m'Normal'\u001b[0m\u001b[1;33m,\u001b[0m \u001b[1;36m7\u001b[0m\u001b[1;33m,\u001b[0m \u001b[1;36m7\u001b[0m\u001b[1;33m,\u001b[0m \u001b[1;34m'shelter'\u001b[0m\u001b[1;33m]\u001b[0m\u001b[1;33m,\u001b[0m \u001b[1;34m'3'\u001b[0m\u001b[1;33m:\u001b[0m \u001b[1;33m[\u001b[0m\u001b[1;34m'Hard'\u001b[0m\u001b[1;33m,\u001b[0m \u001b[1;36m9\u001b[0m\u001b[1;33m,\u001b[0m \u001b[1;36m7\u001b[0m\u001b[1;33m,\u001b[0m \u001b[1;34m'binominal'\u001b[0m\u001b[1;33m]\u001b[0m\u001b[1;33m}\u001b[0m\u001b[1;33m\u001b[0m\u001b[1;33m\u001b[0m\u001b[0m\n\u001b[1;32m----> 2\u001b[1;33m \u001b[0mgame\u001b[0m\u001b[1;33m(\u001b[0m\u001b[0mlevels_dict\u001b[0m\u001b[1;33m)\u001b[0m\u001b[1;33m\u001b[0m\u001b[1;33m\u001b[0m\u001b[0m\n\u001b[0m",
      "\u001b[1;32m<ipython-input-243-e7ae691fa483>\u001b[0m in \u001b[0;36mgame\u001b[1;34m(levels_dict)\u001b[0m\n\u001b[0;32m     25\u001b[0m     \u001b[0mprint\u001b[0m\u001b[1;33m(\u001b[0m\u001b[0mslovo\u001b[0m\u001b[1;33m.\u001b[0m\u001b[0mshow\u001b[0m\u001b[1;33m(\u001b[0m\u001b[1;32mFalse\u001b[0m\u001b[1;33m)\u001b[0m\u001b[1;33m)\u001b[0m\u001b[1;33m\u001b[0m\u001b[1;33m\u001b[0m\u001b[0m\n\u001b[0;32m     26\u001b[0m     \u001b[1;32mwhile\u001b[0m \u001b[0mattemts_number\u001b[0m \u001b[1;33m!=\u001b[0m \u001b[1;36m0\u001b[0m\u001b[1;33m:\u001b[0m\u001b[1;33m\u001b[0m\u001b[1;33m\u001b[0m\u001b[0m\n\u001b[1;32m---> 27\u001b[1;33m         \u001b[0mgamer_input\u001b[0m \u001b[1;33m=\u001b[0m \u001b[0mgetGamerInput\u001b[0m\u001b[1;33m(\u001b[0m\u001b[1;32mFalse\u001b[0m\u001b[1;33m,\u001b[0m \u001b[1;32mFalse\u001b[0m\u001b[1;33m)\u001b[0m\u001b[1;33m\u001b[0m\u001b[1;33m\u001b[0m\u001b[0m\n\u001b[0m\u001b[0;32m     28\u001b[0m         \u001b[1;32mif\u001b[0m \u001b[0mgamer_input\u001b[0m \u001b[1;33m==\u001b[0m \u001b[1;34m'save'\u001b[0m\u001b[1;33m:\u001b[0m\u001b[1;33m\u001b[0m\u001b[1;33m\u001b[0m\u001b[0m\n\u001b[0;32m     29\u001b[0m             \u001b[0mprint\u001b[0m\u001b[1;33m(\u001b[0m\u001b[1;34m'\\nSee you'\u001b[0m\u001b[1;33m)\u001b[0m\u001b[1;33m\u001b[0m\u001b[1;33m\u001b[0m\u001b[0m\n",
      "\u001b[1;32m<ipython-input-233-3bfbff73483d>\u001b[0m in \u001b[0;36mgetGamerInput\u001b[1;34m(is_level, is_one_two)\u001b[0m\n\u001b[0;32m      1\u001b[0m \u001b[1;32mdef\u001b[0m \u001b[0mgetGamerInput\u001b[0m\u001b[1;33m(\u001b[0m\u001b[0mis_level\u001b[0m\u001b[1;33m,\u001b[0m \u001b[0mis_one_two\u001b[0m\u001b[1;33m)\u001b[0m\u001b[1;33m:\u001b[0m                          \u001b[1;31m#функция для ввода\u001b[0m\u001b[1;33m\u001b[0m\u001b[1;33m\u001b[0m\u001b[0m\n\u001b[1;32m----> 2\u001b[1;33m     \u001b[0mgamer_input\u001b[0m \u001b[1;33m=\u001b[0m \u001b[0minput\u001b[0m\u001b[1;33m(\u001b[0m\u001b[1;33m)\u001b[0m\u001b[1;33m\u001b[0m\u001b[1;33m\u001b[0m\u001b[0m\n\u001b[0m\u001b[0;32m      3\u001b[0m     \u001b[1;32mif\u001b[0m \u001b[0mgamer_input\u001b[0m \u001b[1;33m==\u001b[0m \u001b[1;34m'save'\u001b[0m \u001b[1;32mand\u001b[0m \u001b[1;33m(\u001b[0m\u001b[1;32mnot\u001b[0m \u001b[0mis_level\u001b[0m\u001b[1;33m)\u001b[0m\u001b[1;33m:\u001b[0m\u001b[1;33m\u001b[0m\u001b[1;33m\u001b[0m\u001b[0m\n\u001b[0;32m      4\u001b[0m         \u001b[1;32mreturn\u001b[0m \u001b[0mgamer_input\u001b[0m\u001b[1;33m\u001b[0m\u001b[1;33m\u001b[0m\u001b[0m\n\u001b[0;32m      5\u001b[0m     \u001b[1;32mif\u001b[0m \u001b[0mlen\u001b[0m\u001b[1;33m(\u001b[0m\u001b[0mgamer_input\u001b[0m\u001b[1;33m)\u001b[0m \u001b[1;33m==\u001b[0m \u001b[1;36m1\u001b[0m\u001b[1;33m:\u001b[0m\u001b[1;33m\u001b[0m\u001b[1;33m\u001b[0m\u001b[0m\n",
      "\u001b[1;32m~\\AppData\\Local\\Programs\\Python\\Python39\\lib\\site-packages\\ipykernel\\kernelbase.py\u001b[0m in \u001b[0;36mraw_input\u001b[1;34m(self, prompt)\u001b[0m\n\u001b[0;32m    846\u001b[0m                 \u001b[1;34m\"raw_input was called, but this frontend does not support input requests.\"\u001b[0m\u001b[1;33m\u001b[0m\u001b[1;33m\u001b[0m\u001b[0m\n\u001b[0;32m    847\u001b[0m             )\n\u001b[1;32m--> 848\u001b[1;33m         return self._input_request(str(prompt),\n\u001b[0m\u001b[0;32m    849\u001b[0m             \u001b[0mself\u001b[0m\u001b[1;33m.\u001b[0m\u001b[0m_parent_ident\u001b[0m\u001b[1;33m,\u001b[0m\u001b[1;33m\u001b[0m\u001b[1;33m\u001b[0m\u001b[0m\n\u001b[0;32m    850\u001b[0m             \u001b[0mself\u001b[0m\u001b[1;33m.\u001b[0m\u001b[0m_parent_header\u001b[0m\u001b[1;33m,\u001b[0m\u001b[1;33m\u001b[0m\u001b[1;33m\u001b[0m\u001b[0m\n",
      "\u001b[1;32m~\\AppData\\Local\\Programs\\Python\\Python39\\lib\\site-packages\\ipykernel\\kernelbase.py\u001b[0m in \u001b[0;36m_input_request\u001b[1;34m(self, prompt, ident, parent, password)\u001b[0m\n\u001b[0;32m    890\u001b[0m             \u001b[1;32mexcept\u001b[0m \u001b[0mKeyboardInterrupt\u001b[0m\u001b[1;33m:\u001b[0m\u001b[1;33m\u001b[0m\u001b[1;33m\u001b[0m\u001b[0m\n\u001b[0;32m    891\u001b[0m                 \u001b[1;31m# re-raise KeyboardInterrupt, to truncate traceback\u001b[0m\u001b[1;33m\u001b[0m\u001b[1;33m\u001b[0m\u001b[1;33m\u001b[0m\u001b[0m\n\u001b[1;32m--> 892\u001b[1;33m                 \u001b[1;32mraise\u001b[0m \u001b[0mKeyboardInterrupt\u001b[0m\u001b[1;33m(\u001b[0m\u001b[1;34m\"Interrupted by user\"\u001b[0m\u001b[1;33m)\u001b[0m \u001b[1;32mfrom\u001b[0m \u001b[1;32mNone\u001b[0m\u001b[1;33m\u001b[0m\u001b[1;33m\u001b[0m\u001b[0m\n\u001b[0m\u001b[0;32m    893\u001b[0m             \u001b[1;32mexcept\u001b[0m \u001b[0mException\u001b[0m \u001b[1;32mas\u001b[0m \u001b[0me\u001b[0m\u001b[1;33m:\u001b[0m\u001b[1;33m\u001b[0m\u001b[1;33m\u001b[0m\u001b[0m\n\u001b[0;32m    894\u001b[0m                 \u001b[0mself\u001b[0m\u001b[1;33m.\u001b[0m\u001b[0mlog\u001b[0m\u001b[1;33m.\u001b[0m\u001b[0mwarning\u001b[0m\u001b[1;33m(\u001b[0m\u001b[1;34m\"Invalid Message:\"\u001b[0m\u001b[1;33m,\u001b[0m \u001b[0mexc_info\u001b[0m\u001b[1;33m=\u001b[0m\u001b[1;32mTrue\u001b[0m\u001b[1;33m)\u001b[0m\u001b[1;33m\u001b[0m\u001b[1;33m\u001b[0m\u001b[0m\n",
      "\u001b[1;31mKeyboardInterrupt\u001b[0m: Interrupted by user"
     ]
    }
   ],
   "source": [
    "levels_dict = {'1': ['Easy', 5, 9, 'apple'], '2': ['Normal', 7, 7, 'shelter'], '3': ['Hard', 9, 7, 'binominal']}\n",
    "game(levels_dict)"
   ]
  },
  {
   "cell_type": "code",
   "execution_count": null,
   "metadata": {},
   "outputs": [],
   "source": [
    "import pickle"
   ]
  },
  {
   "cell_type": "code",
   "execution_count": null,
   "metadata": {},
   "outputs": [],
   "source": []
  }
 ],
 "metadata": {
  "interpreter": {
   "hash": "776c53f40872983116dfecd94c204815b7ac96f290b21b7ea737f234a1734b90"
  },
  "kernelspec": {
   "display_name": "Python 3.5.1 64-bit",
   "language": "python",
   "name": "python3"
  },
  "language_info": {
   "codemirror_mode": {
    "name": "ipython",
    "version": 3
   },
   "file_extension": ".py",
   "mimetype": "text/x-python",
   "name": "python",
   "nbconvert_exporter": "python",
   "pygments_lexer": "ipython3",
   "version": "3.9.1"
  },
  "orig_nbformat": 4
 },
 "nbformat": 4,
 "nbformat_minor": 2
}
