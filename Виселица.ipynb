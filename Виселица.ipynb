{
 "cells": [
  {
   "cell_type": "code",
   "execution_count": 27,
   "metadata": {},
   "outputs": [],
   "source": [
    "def getLetter():\n",
    "    input_letter = input()\n",
    "    if input_letter.isalpha() and len(input_letter) == 1:\n",
    "        return input_letter.lower()\n",
    "    else:\n",
    "        print('Error, try repeat')\n",
    "        return getLetter()"
   ]
  },
  {
   "cell_type": "code",
   "execution_count": 7,
   "metadata": {},
   "outputs": [],
   "source": [
    "class Letter():\n",
    "    def __init__(self, letter, open_flag):\n",
    "        self.letter = letter\n",
    "        self.open_flag = open_flag\n",
    "    \n",
    "    def show(self):\n",
    "        if self.open_flag:\n",
    "            return self.letter\n",
    "        else:\n",
    "            return '*'"
   ]
  },
  {
   "cell_type": "code",
   "execution_count": 24,
   "metadata": {},
   "outputs": [],
   "source": [
    "class Slovo():\n",
    "    def __init__(self, word, num_attemts):\n",
    "        self.word = word\n",
    "        self.num_attemts = num_attemts\n",
    "\n",
    "        letter_list = []\n",
    "        for i in word:\n",
    "            letter_list.append(Letter(i, False))\n",
    "        self.letter_list = letter_list\n",
    "\n",
    "    def show(self, show_word_flag, input_letter=None):\n",
    "        new_word = ''\n",
    "        if show_word_flag:\n",
    "            return self.word\n",
    "        else:\n",
    "            num_attemts_flag = False\n",
    "            for i in self.letter_list:\n",
    "                if i.letter == input_letter:\n",
    "                 num_attemts_flag = True\n",
    "                 i.open_flag = True\n",
    "                new_word += i.show()\n",
    "            if not num_attemts_flag:\n",
    "                 print('letter', input_letter, 'not in word')\n",
    "                 self.num_attemts -=1\n",
    "            return (new_word, self.num_attemts)\n",
    "            \n"
   ]
  },
  {
   "cell_type": "code",
   "execution_count": 28,
   "metadata": {},
   "outputs": [],
   "source": [
    "def game(word):\n",
    "    num_attemts = 7\n",
    "    slovo = Slovo(word, num_attemts)\n",
    "    while num_attemts != 0:\n",
    "        input_letter = getLetter()\n",
    "        new_word, num_attemts = slovo.show(False, input_letter)\n",
    "        print(new_word, 'attempts left:', num_attemts)\n",
    "\n",
    "        if new_word == slovo.show(True):\n",
    "            print('You win')\n",
    "            break\n",
    "    if num_attemts == 0:  \n",
    "        print('Game over')"
   ]
  },
  {
   "cell_type": "code",
   "execution_count": 30,
   "metadata": {},
   "outputs": [
    {
     "name": "stdout",
     "output_type": "stream",
     "text": [
      "l******* attempts left: 7\n",
      "la***a** attempts left: 7\n",
      "la***a** attempts left: 7\n",
      "letter b not in word\n",
      "la***a** attempts left: 6\n",
      "lan**a** attempts left: 6\n",
      "lang*ag* attempts left: 6\n",
      "languag* attempts left: 6\n",
      "languag* attempts left: 6\n",
      "language attempts left: 6\n",
      "You win\n"
     ]
    }
   ],
   "source": [
    "game('language')"
   ]
  }
 ],
 "metadata": {
  "interpreter": {
   "hash": "776c53f40872983116dfecd94c204815b7ac96f290b21b7ea737f234a1734b90"
  },
  "kernelspec": {
   "display_name": "Python 3.5.1 64-bit",
   "language": "python",
   "name": "python3"
  },
  "language_info": {
   "codemirror_mode": {
    "name": "ipython",
    "version": 3
   },
   "file_extension": ".py",
   "mimetype": "text/x-python",
   "name": "python",
   "nbconvert_exporter": "python",
   "pygments_lexer": "ipython3",
   "version": "3.5.1"
  },
  "orig_nbformat": 4
 },
 "nbformat": 4,
 "nbformat_minor": 2
}
