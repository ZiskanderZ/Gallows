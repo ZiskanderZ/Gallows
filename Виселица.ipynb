{
 "cells": [
  {
   "cell_type": "code",
   "execution_count": 39,
   "metadata": {},
   "outputs": [],
   "source": [
    "def getLetter():\n",
    "    input_letter = input()\n",
    "    if input_letter.isalpha() and len(input_letter) == 1:\n",
    "        return input_letter.lower()\n",
    "    else:\n",
    "        print('Error, try repeat')\n",
    "        return getLetter()"
   ]
  },
  {
   "cell_type": "code",
   "execution_count": 40,
   "metadata": {},
   "outputs": [],
   "source": [
    "class Letter():\n",
    "    def __init__(self, letter, open_flag):\n",
    "        self.letter = letter\n",
    "        self.open_flag = open_flag\n",
    "    \n",
    "    def show(self):\n",
    "        if self.open_flag:\n",
    "            return self.letter\n",
    "        else:\n",
    "            return '*'"
   ]
  },
  {
   "cell_type": "code",
   "execution_count": 46,
   "metadata": {},
   "outputs": [],
   "source": [
    "class Slovo():\n",
    "    def __init__(self, word, num_attemts):\n",
    "        self.word = word\n",
    "        self.num_attemts = num_attemts\n",
    "\n",
    "        letter_list = []\n",
    "        for i in word:\n",
    "            letter_list.append(Letter(i, False))\n",
    "        self.letter_list = letter_list\n",
    "\n",
    "        inputs_list = []\n",
    "        self.inputs_list = inputs_list\n",
    "\n",
    "    def show(self, show_word_flag, input_letter=None):\n",
    "        new_word = ''\n",
    "        if show_word_flag:\n",
    "            return self.word\n",
    "        else:\n",
    "            num_attemts_flag = False\n",
    "            if input_letter not in self.inputs_list:\n",
    "                self.inputs_list.append(input_letter)\n",
    "            else:\n",
    "                print('You enter this word yet')\n",
    "            for i in self.letter_list:\n",
    "                if i.letter == input_letter:\n",
    "                    num_attemts_flag = True\n",
    "                    i.open_flag = True\n",
    "                new_word += i.show()\n",
    "            if not num_attemts_flag:\n",
    "                 print('letter', input_letter, 'not in word')\n",
    "                 self.num_attemts -=1\n",
    "                \n",
    "            return (new_word, self.num_attemts)\n",
    "            \n"
   ]
  },
  {
   "cell_type": "code",
   "execution_count": 42,
   "metadata": {},
   "outputs": [],
   "source": [
    "def game(word):\n",
    "    num_attemts = 7\n",
    "    slovo = Slovo(word, num_attemts)\n",
    "    while num_attemts != 0:\n",
    "        input_letter = getLetter()\n",
    "        new_word, num_attemts = slovo.show(False, input_letter)\n",
    "        print(new_word, 'attempts left:', num_attemts)\n",
    "\n",
    "        if new_word == slovo.show(True):\n",
    "            print('You win')\n",
    "            break\n",
    "    if num_attemts == 0:  \n",
    "        print('Game over')"
   ]
  },
  {
   "cell_type": "code",
   "execution_count": 48,
   "metadata": {},
   "outputs": [
    {
     "name": "stdout",
     "output_type": "stream",
     "text": [
      "letter t not in word\n",
      "******** attempts left: 6\n",
      "letter r not in word\n",
      "******** attempts left: 5\n",
      "You enter this word yet\n",
      "letter r not in word\n",
      "******** attempts left: 4\n",
      "letter j not in word\n",
      "******** attempts left: 3\n",
      "You enter this word yet\n",
      "letter j not in word\n",
      "******** attempts left: 2\n",
      "letter o not in word\n",
      "******** attempts left: 1\n",
      "l******* attempts left: 1\n",
      "l******e attempts left: 1\n",
      "letter w not in word\n",
      "l******e attempts left: 0\n",
      "Game over\n"
     ]
    }
   ],
   "source": [
    "game('language')"
   ]
  }
 ],
 "metadata": {
  "interpreter": {
   "hash": "776c53f40872983116dfecd94c204815b7ac96f290b21b7ea737f234a1734b90"
  },
  "kernelspec": {
   "display_name": "Python 3.5.1 64-bit",
   "language": "python",
   "name": "python3"
  },
  "language_info": {
   "codemirror_mode": {
    "name": "ipython",
    "version": 3
   },
   "file_extension": ".py",
   "mimetype": "text/x-python",
   "name": "python",
   "nbconvert_exporter": "python",
   "pygments_lexer": "ipython3",
   "version": "3.5.1"
  },
  "orig_nbformat": 4
 },
 "nbformat": 4,
 "nbformat_minor": 2
}
