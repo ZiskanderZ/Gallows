{
 "cells": [
  {
   "cell_type": "code",
   "execution_count": 102,
   "metadata": {},
   "outputs": [],
   "source": [
    "def getGamerInput(is_level, is_one_two):\n",
    "    gamer_input = input()\n",
    "    if gamer_input == 'save' and (not is_level):\n",
    "        return gamer_input\n",
    "    if len(gamer_input) == 1:\n",
    "        if gamer_input.isdigit() and 1 <= int(gamer_input) <= 3:\n",
    "            if is_level:\n",
    "                return gamer_input\n",
    "            elif is_one_two and int(gamer_input) <= 2:\n",
    "                return gamer_input\n",
    "        elif (not is_level) and (not is_one_two) and gamer_input.isalpha():\n",
    "            return gamer_input.lower()\n",
    "    print('Error, try again')\n",
    "    return getGamerInput(is_level, is_one_two)"
   ]
  },
  {
   "cell_type": "code",
   "execution_count": 103,
   "metadata": {},
   "outputs": [],
   "source": [
    "def save(*elements):\n",
    "    with open('Save.txt', 'w') as save_file:\n",
    "        for element in elements:\n",
    "            save_file.write(element) "
   ]
  },
  {
   "cell_type": "code",
   "execution_count": 104,
   "metadata": {},
   "outputs": [],
   "source": [
    "class Letter():\n",
    "    def __init__(self, letter, open_flag):\n",
    "        self.letter = letter\n",
    "        self.open_flag = open_flag\n",
    "    \n",
    "    def show(self):\n",
    "        if self.open_flag:\n",
    "            return self.letter\n",
    "        else:\n",
    "            return '*'"
   ]
  },
  {
   "cell_type": "code",
   "execution_count": 105,
   "metadata": {},
   "outputs": [],
   "source": [
    "class Slovo():\n",
    "    def __init__(self, word, attemts_number, is_letter_in_word=False):\n",
    "        self.word = word\n",
    "        self.attemts_number = attemts_number\n",
    "        self.is_letter_in_word = is_letter_in_word\n",
    "\n",
    "        letter_list = []\n",
    "        for i in word:\n",
    "            letter_list.append(Letter(i, False))\n",
    "        self.letter_list = letter_list\n",
    "\n",
    "        inputs_list = []\n",
    "        self.inputs_list = inputs_list\n",
    "\n",
    "    def check(self, input_letter):\n",
    "        if input_letter not in self.inputs_list:\n",
    "            self.inputs_list.append(input_letter)\n",
    "        else:\n",
    "            print(f'You have already entered the letter \"{input_letter}\"')\n",
    "            self.is_letter_in_word = True\n",
    "        \n",
    "    def decrease_attemts(self, input_letter):\n",
    "        if not self.is_letter_in_word:\n",
    "            print(f'The letter \"{input_letter}\" is not in the word')\n",
    "            self.attemts_number -=1\n",
    "\n",
    "    def show(self, show_word_flag, input_letter=None):\n",
    "        if show_word_flag:\n",
    "            new_word = self.word\n",
    "            return new_word\n",
    "        else:\n",
    "            new_word = ''\n",
    "            self.is_letter_in_word = False\n",
    "            for i in self.letter_list:\n",
    "                if i.letter == input_letter:\n",
    "                    self.is_letter_in_word = True\n",
    "                    i.open_flag = True\n",
    "                new_word += i.show()\n",
    "            return new_word\n",
    "\n",
    "    def game_mechanics(self, show_word_flag, input_letter):\n",
    "        new_word = self.show(show_word_flag, input_letter)\n",
    "        self.check(input_letter)\n",
    "        self.decrease_attemts(input_letter)\n",
    "                \n",
    "        return (new_word, self.attemts_number)\n",
    "            \n"
   ]
  },
  {
   "cell_type": "code",
   "execution_count": 106,
   "metadata": {},
   "outputs": [],
   "source": [
    "def edit_level_sentence(dict, level):\n",
    "    return f'\\n{dict[str(level)][0]} - The word consists of {dict[str(level)][1]} letters, \\\n",
    "the number of attempts is {dict[str(level)][2]}'"
   ]
  },
  {
   "cell_type": "code",
   "execution_count": 107,
   "metadata": {},
   "outputs": [],
   "source": [
    "def game(levels_dict):\n",
    "    print(f'Select difficulty level:\\\n",
    "        {edit_level_sentence(levels_dict, 1)} (Press 1)\\\n",
    "        {edit_level_sentence(levels_dict, 2)} (Press 2)\\\n",
    "        {edit_level_sentence(levels_dict, 3)} (Press 3)')       #вывод уровней\n",
    "\n",
    "    gamer_input = getGamerInput(True, False)                     # ввод уровня\n",
    "    level = edit_level_sentence(levels_dict, gamer_input)\n",
    "    print(level)\n",
    "\n",
    "    word = levels_dict[str(gamer_input)][3]\n",
    "    attemts_number = levels_dict[str(gamer_input)][2]\n",
    "    slovo = Slovo(word, attemts_number)\n",
    "    input_number = 0\n",
    "\n",
    "    print(slovo.show(False))\n",
    "    while attemts_number != 0:\n",
    "        gamer_input = getGamerInput(False, False)\n",
    "        if gamer_input == 'save':\n",
    "            print('See you')\n",
    "            return save(slovo.show(False), level)\n",
    "        input_number += 1\n",
    "\n",
    "        new_word, attemts_number = slovo.game_mechanics(False, gamer_input)\n",
    "        print(f'{new_word} \\nAttempts left: {attemts_number}')\n",
    "\n",
    "        if new_word == slovo.show(True):\n",
    "            print(f'\\nCongratulations\\nYou win\\nYou completed the game in {input_number} turns')\n",
    "            break\n",
    "        \n",
    "    if attemts_number == 0:         #если игрок проиграл\n",
    "        print('\\nGame over')\n",
    "\n",
    "    print('\\nDo you want to start a new game?\\nYes - 1\\nNo - 2')\n",
    "\n",
    "    gamer_input = int(getGamerInput(False, True))\n",
    "    if gamer_input == 1:\n",
    "        game(levels_dict)\n",
    "    else:\n",
    "        print('Goodbye')\n",
    "        "
   ]
  },
  {
   "cell_type": "code",
   "execution_count": 108,
   "metadata": {},
   "outputs": [
    {
     "name": "stdout",
     "output_type": "stream",
     "text": [
      "Select difficulty level:        \n",
      "Easy - The word consists of 5 letters, the number of attempts is 9 (Press 1)        \n",
      "Normal - The word consists of 7 letters, the number of attempts is 7 (Press 2)        \n",
      "Hard - The word consists of 9 letters, the number of attempts is 7 (Press 3)\n",
      "Error, try again\n",
      "\n",
      "Easy - The word consists of 5 letters, the number of attempts is 9\n",
      "*****\n",
      "The letter \"g\" is not in the word\n",
      "***** \n",
      "Attempts left: 8\n",
      "Error, try again\n",
      "Error, try again\n",
      "a**** \n",
      "Attempts left: 8\n",
      "The letter \"r\" is not in the word\n",
      "a**** \n",
      "Attempts left: 7\n",
      "See you\n"
     ]
    }
   ],
   "source": [
    "levels_dict = {'1': ['Easy', 5, 9, 'apple'], '2': ['Normal', 7, 7, 'shelter'], '3': ['Hard', 9, 7, 'binominal']}\n",
    "game(levels_dict)"
   ]
  }
 ],
 "metadata": {
  "interpreter": {
   "hash": "776c53f40872983116dfecd94c204815b7ac96f290b21b7ea737f234a1734b90"
  },
  "kernelspec": {
   "display_name": "Python 3.5.1 64-bit",
   "language": "python",
   "name": "python3"
  },
  "language_info": {
   "codemirror_mode": {
    "name": "ipython",
    "version": 3
   },
   "file_extension": ".py",
   "mimetype": "text/x-python",
   "name": "python",
   "nbconvert_exporter": "python",
   "pygments_lexer": "ipython3",
   "version": "3.9.1"
  },
  "orig_nbformat": 4
 },
 "nbformat": 4,
 "nbformat_minor": 2
}
