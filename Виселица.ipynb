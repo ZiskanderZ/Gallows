{
 "cells": [
  {
   "cell_type": "code",
   "execution_count": 92,
   "metadata": {},
   "outputs": [],
   "source": [
    "def getLetter():\n",
    "    input_letter = input()\n",
    "    if input_letter.isalpha() and len(input_letter) == 1:\n",
    "        return input_letter.lower()\n",
    "    else:\n",
    "        print('Error, try again')\n",
    "        return getLetter()"
   ]
  },
  {
   "cell_type": "code",
   "execution_count": 93,
   "metadata": {},
   "outputs": [],
   "source": [
    "class Letter():\n",
    "    def __init__(self, letter, open_flag):\n",
    "        self.letter = letter\n",
    "        self.open_flag = open_flag\n",
    "    \n",
    "    def show(self):\n",
    "        if self.open_flag:\n",
    "            return self.letter\n",
    "        else:\n",
    "            return '*'"
   ]
  },
  {
   "cell_type": "code",
   "execution_count": 98,
   "metadata": {},
   "outputs": [],
   "source": [
    "class Slovo():\n",
    "    def __init__(self, word, attemts_number, is_letter_in_word=False):\n",
    "        self.word = word\n",
    "        self.attemts_number = attemts_number\n",
    "        self.is_letter_in_word = is_letter_in_word\n",
    "\n",
    "        letter_list = []\n",
    "        for i in word:\n",
    "            letter_list.append(Letter(i, False))\n",
    "        self.letter_list = letter_list\n",
    "\n",
    "        inputs_list = []\n",
    "        self.inputs_list = inputs_list\n",
    "\n",
    "    def check(self, input_letter):\n",
    "        if input_letter not in self.inputs_list:\n",
    "            self.inputs_list.append(input_letter)\n",
    "        else:\n",
    "            print(f'You have already entered the letter \"{input_letter}\"')\n",
    "            self.is_letter_in_word = True\n",
    "        \n",
    "    def decrease_attemts(self, input_letter):\n",
    "        if not self.is_letter_in_word:\n",
    "            print(f'The letter \"{input_letter}\" is not in the word')\n",
    "            self.attemts_number -=1\n",
    "\n",
    "    def show(self, show_word_flag, new_word=None, input_letter=None):\n",
    "        if show_word_flag:\n",
    "            new_word = self.word\n",
    "            return new_word\n",
    "        else:\n",
    "            self.is_letter_in_word = False\n",
    "            for i in self.letter_list:\n",
    "                if i.letter == input_letter:\n",
    "                    self.is_letter_in_word = True\n",
    "                    i.open_flag = True\n",
    "                new_word += i.show()\n",
    "            return new_word\n",
    "\n",
    "    def game_mechanics(self, show_word_flag, input_letter):\n",
    "        new_word = ''\n",
    "        new_word = self.show(show_word_flag, new_word, input_letter)\n",
    "        self.check(input_letter)\n",
    "        self.decrease_attemts(input_letter)\n",
    "                \n",
    "        return (new_word, self.attemts_number)\n",
    "            \n"
   ]
  },
  {
   "cell_type": "code",
   "execution_count": 99,
   "metadata": {},
   "outputs": [],
   "source": [
    "def game(word, attemts_number):\n",
    "    slovo = Slovo(word, attemts_number)\n",
    "    while attemts_number != 0:\n",
    "        input_letter = getLetter()\n",
    "        new_word, attemts_number = slovo.game_mechanics(False, input_letter)\n",
    "        print(f'{new_word} \\nAttempts left: {attemts_number}')\n",
    "\n",
    "        if new_word == slovo.show(True):\n",
    "            print('You win')\n",
    "            break\n",
    "    if attemts_number == 0:  \n",
    "        print('Game over')"
   ]
  },
  {
   "cell_type": "code",
   "execution_count": 100,
   "metadata": {},
   "outputs": [
    {
     "name": "stdout",
     "output_type": "stream",
     "text": [
      "l******* \n",
      "Attempts left: 7\n",
      "The letter \"y\" is not in the word\n",
      "l******* \n",
      "Attempts left: 6\n",
      "la***a** \n",
      "Attempts left: 6\n",
      "The letter \"r\" is not in the word\n",
      "la***a** \n",
      "Attempts left: 5\n",
      "lan**a** \n",
      "Attempts left: 5\n",
      "lan**a*e \n",
      "Attempts left: 5\n",
      "The letter \"i\" is not in the word\n",
      "lan**a*e \n",
      "Attempts left: 4\n",
      "lang*age \n",
      "Attempts left: 4\n",
      "language \n",
      "Attempts left: 4\n",
      "You win\n"
     ]
    }
   ],
   "source": [
    "game('language', 7)"
   ]
  }
 ],
 "metadata": {
  "interpreter": {
   "hash": "776c53f40872983116dfecd94c204815b7ac96f290b21b7ea737f234a1734b90"
  },
  "kernelspec": {
   "display_name": "Python 3.5.1 64-bit",
   "language": "python",
   "name": "python3"
  },
  "language_info": {
   "codemirror_mode": {
    "name": "ipython",
    "version": 3
   },
   "file_extension": ".py",
   "mimetype": "text/x-python",
   "name": "python",
   "nbconvert_exporter": "python",
   "pygments_lexer": "ipython3",
   "version": "3.9.1"
  },
  "orig_nbformat": 4
 },
 "nbformat": 4,
 "nbformat_minor": 2
}
