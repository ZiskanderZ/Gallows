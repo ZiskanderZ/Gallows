{
 "cells": [
  {
   "cell_type": "code",
   "execution_count": 52,
   "metadata": {},
   "outputs": [],
   "source": [
    "def inputing():\n",
    "    input_letter = input()\n",
    "    if input_letter.isalpha():\n",
    "        return input_letter.lower()\n",
    "    else:\n",
    "        print('Error, try repeat')\n",
    "        return inputing()"
   ]
  },
  {
   "cell_type": "code",
   "execution_count": 10,
   "metadata": {},
   "outputs": [],
   "source": [
    "class Letter():\n",
    "    def __init__(self, letter, open_flag):\n",
    "        self.letter = letter\n",
    "        self.open_flag = open_flag\n",
    "    \n",
    "    def show_letter(self):\n",
    "        if self.open_flag:\n",
    "            return self.letter\n",
    "        else:\n",
    "            return '*'"
   ]
  },
  {
   "cell_type": "code",
   "execution_count": 62,
   "metadata": {},
   "outputs": [],
   "source": [
    "class Slovo():\n",
    "    def __init__(self, word, num):\n",
    "        self.word = word\n",
    "        self.num = num\n",
    "\n",
    "        letter_list = []\n",
    "        for i in word:\n",
    "            letter_list.append(Letter(i, False))\n",
    "\n",
    "        self.letter_list = letter_list\n",
    "\n",
    "    def show_word(self, show_word_flag, input_letter):\n",
    "        new_word = ''\n",
    "        if show_word_flag:\n",
    "            return self.word\n",
    "        else:\n",
    "            num_flag = False\n",
    "            for i in self.word:\n",
    "                if i == input_letter:\n",
    "                    num_flag = True\n",
    "                    self.letter_list[self.word.index(i)].open_flag = True\n",
    "                new_word += self.letter_list[self.word.index(i)].show_letter()\n",
    "            if not num_flag:\n",
    "                print('letter', input_letter, 'not in word')\n",
    "                self.num -=1\n",
    "            return (new_word, self.num)\n",
    "            \n"
   ]
  },
  {
   "cell_type": "code",
   "execution_count": 66,
   "metadata": {},
   "outputs": [],
   "source": [
    "def game(word):\n",
    "    num = 7\n",
    "    slovo = Slovo(word, num)\n",
    "    while num != 0:\n",
    "        input_letter = inputing()\n",
    "        new_word, num = slovo.show_word(False, input_letter)\n",
    "        print(new_word, 'attempts left:', num)\n",
    "\n",
    "        if new_word == word:\n",
    "            print('You win')\n",
    "            break\n",
    "    if num == 0:  \n",
    "        print('Game over')"
   ]
  },
  {
   "cell_type": "code",
   "execution_count": null,
   "metadata": {},
   "outputs": [],
   "source": [
    "game('language')"
   ]
  }
 ],
 "metadata": {
  "interpreter": {
   "hash": "776c53f40872983116dfecd94c204815b7ac96f290b21b7ea737f234a1734b90"
  },
  "kernelspec": {
   "display_name": "Python 3.5.1 64-bit",
   "language": "python",
   "name": "python3"
  },
  "language_info": {
   "codemirror_mode": {
    "name": "ipython",
    "version": 3
   },
   "file_extension": ".py",
   "mimetype": "text/x-python",
   "name": "python",
   "nbconvert_exporter": "python",
   "pygments_lexer": "ipython3",
   "version": "3.9.1"
  },
  "orig_nbformat": 4
 },
 "nbformat": 4,
 "nbformat_minor": 2
}
